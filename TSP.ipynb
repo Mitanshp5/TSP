    {
      "cell_type": "code",
      "execution_count": 2,
      "metadata": {
        "colab": {
          "base_uri": "https://localhost:8080/",
          "height": 238
        },
        "id": "SwawGw1J0njC",
        "outputId": "29884f78-993c-43fe-e837-7e9c0d222999"
      },
      "outputs": [],
      "source": [
        "import pandas as pd\n",
        "from itertools import permutations\n",
        "import time as t"
      ]
    },
    {
      "cell_type": "code",
      "execution_count": 3,
      "metadata": {
        "id": "KyG5R9XV0njI"
      },
      "outputs": [
        {
          "data": {
            "text/html": [
              "<div>\n",
              "<style scoped>\n",
              "    .dataframe tbody tr th:only-of-type {\n",
              "        vertical-align: middle;\n",
              "    }\n",
              "\n",
              "    .dataframe tbody tr th {\n",
              "        vertical-align: top;\n",
              "    }\n",
              "\n",
              "    .dataframe thead th {\n",
              "        text-align: right;\n",
              "    }\n",
              "</style>\n",
              "<table border=\"1\" class=\"dataframe\">\n",
              "  <thead>\n",
              "    <tr style=\"text-align: right;\">\n",
              "      <th></th>\n",
              "      <th>0</th>\n",
              "      <th>1</th>\n",
              "      <th>2</th>\n",
              "      <th>3</th>\n",
              "      <th>4</th>\n",
              "      <th>5</th>\n",
              "    </tr>\n",
              "  </thead>\n",
              "  <tbody>\n",
              "    <tr>\n",
              "      <th>0</th>\n",
              "      <td>0</td>\n",
              "      <td>64</td>\n",
              "      <td>378</td>\n",
              "      <td>519</td>\n",
              "      <td>434</td>\n",
              "      <td>200</td>\n",
              "    </tr>\n",
              "    <tr>\n",
              "      <th>1</th>\n",
              "      <td>64</td>\n",
              "      <td>0</td>\n",
              "      <td>318</td>\n",
              "      <td>455</td>\n",
              "      <td>375</td>\n",
              "      <td>164</td>\n",
              "    </tr>\n",
              "    <tr>\n",
              "      <th>2</th>\n",
              "      <td>378</td>\n",
              "      <td>318</td>\n",
              "      <td>0</td>\n",
              "      <td>170</td>\n",
              "      <td>265</td>\n",
              "      <td>344</td>\n",
              "    </tr>\n",
              "    <tr>\n",
              "      <th>3</th>\n",
              "      <td>519</td>\n",
              "      <td>455</td>\n",
              "      <td>170</td>\n",
              "      <td>0</td>\n",
              "      <td>223</td>\n",
              "      <td>428</td>\n",
              "    </tr>\n",
              "    <tr>\n",
              "      <th>4</th>\n",
              "      <td>434</td>\n",
              "      <td>375</td>\n",
              "      <td>265</td>\n",
              "      <td>223</td>\n",
              "      <td>0</td>\n",
              "      <td>273</td>\n",
              "    </tr>\n",
              "    <tr>\n",
              "      <th>5</th>\n",
              "      <td>200</td>\n",
              "      <td>164</td>\n",
              "      <td>344</td>\n",
              "      <td>428</td>\n",
              "      <td>273</td>\n",
              "      <td>0</td>\n",
              "    </tr>\n",
              "  </tbody>\n",
              "</table>\n",
              "</div>"
            ],
            "text/plain": [
              "     0    1    2    3    4    5\n",
              "0    0   64  378  519  434  200\n",
              "1   64    0  318  455  375  164\n",
              "2  378  318    0  170  265  344\n",
              "3  519  455  170    0  223  428\n",
              "4  434  375  265  223    0  273\n",
              "5  200  164  344  428  273    0"
            ]
          },
          "metadata": {},
          "output_type": "display_data"
        }
      ],
      "source": [
        "df= pd.read_csv(\"6citytsp.csv\", header=None)\n",
        "display(df)"
      ]
    },
    {
      "cell_type": "code",
      "execution_count": 4,
      "metadata": {},
      "outputs": [
        {
          "name": "stdout",
          "output_type": "stream",
          "text": [
            "     0    1    2    3    4    5\n",
            "0    0   64  378  519  434  200\n",
            "1   64    0  318  455  375  164\n",
            "2  378  318    0  170  265  344\n",
            "3  519  455  170    0  223  428\n",
            "4  434  375  265  223    0  273\n",
            "5  200  164  344  428  273    0\n"
          ]
        }
      ],
      "source": [
        "print(df)"
      ]
    },
    {
      "cell_type": "code",
      "execution_count": 4,
      "metadata": {},
      "outputs": [],
      "source": [
        "#Function to find total distance\n",
        "def calculate_total_distance(path, df): \n",
        "    total_distance = 0 \n",
        "    for i in range(len(path) - 1):\n",
        "        total_distance += df.iloc[path[i], path[i + 1]]\n",
        "    total_distance += df.iloc[path[-1], path[0]]  # Returning to start\n",
        "    return total_distance"
      ]
    },
    {
      "cell_type": "markdown",
      "metadata": {},
      "source": [
        "Trying by Brute-Force approch"
      ]
    },
    {
      "cell_type": "code",
      "execution_count": 5,
      "metadata": {
        "id": "S_HppUa_0njL"
      },
      "outputs": [],
      "source": [
        "#Function to find best path through brute force\n",
        "def tsp_bruteforce(df):\n",
        "    cities = list(range(df.shape[0])) #It makes the list of all cities\n",
        "    all_paths = permutations(cities) #It makes a tupple of all the possible paths\n",
        "    min_distance = float('inf') #Sets the inital min distance to infinity\n",
        "    best_path = None #Sets the inital best path to none\n",
        "    \n",
        "    for path in all_paths: #Finding best path such that the total distance is least \n",
        "        distance = calculate_total_distance(path, df)\n",
        "        if distance < min_distance:\n",
        "            min_distance = distance\n",
        "            best_path = path\n",
        "\n",
        "    return best_path, min_distance\n"
      ]
    },
    {
      "cell_type": "code",
      "execution_count": 6,
      "metadata": {
        "colab": {
          "base_uri": "https://localhost:8080/"
        },
        "id": "-APK-t8e0njM",
        "outputId": "2d87d868-ccaa-45f7-9305-13f2079feda4"
      },
      "outputs": [
        {
          "name": "stdout",
          "output_type": "stream",
          "text": [
            "Optimal Path: (0, 1, 2, 3, 4, 5)\n",
            "Minimum Distance: 1248\n",
            "Time taken: 0.20161080360412598 seconds\n"
          ]
        }
      ],
      "source": [
        "start_time = t.time()\n",
        "optimal_path, min_distance = tsp_bruteforce(df)\n",
        "end_time = t.time()\n",
        "\n",
        "print(\"Optimal Path:\", optimal_path)\n",
        "print(\"Minimum Distance:\", min_distance)\n",
        "print(\"Time taken:\", end_time - start_time, \"seconds\")\n"
      ]
    },
    {
      "cell_type": "markdown",
      "metadata": {},
      "source": [
        "Trying by Hurestic approch"
      ]
    },
    {
      "cell_type": "code",
      "execution_count": 7,
      "metadata": {},
      "outputs": [],
      "source": [
        "#Function to find optimal path through hurestic approch\n",
        "def tsp_hurestic(df, start_city):\n",
        "    n = df.shape[0] \n",
        "    path = [start_city] #List for storing path\n",
        "\n",
        "    while len(path) < n:\n",
        "        next_city = None \n",
        "        current_city= path[-1] #CIty from which lowest distance to next city is being found\n",
        "        for city in range(n):\n",
        "            if city not in path: #Finding next city such that its diatance is least from current city\n",
        "                if next_city is None or df.iloc[current_city, city] < df.iloc[current_city, next_city]:\n",
        "                    next_city = city\n",
        "\n",
        "        path.append(next_city) #Adding the nearest city found to list \n",
        "\n",
        "    return path"
      ]
    },
    {
      "cell_type": "code",
      "execution_count": null,
      "metadata": {},
      "outputs": [
        {
          "name": "stdout",
          "output_type": "stream",
          "text": [
            "Optimal Path: [0, 1, 5, 4, 3, 2]\n",
            "Distance: 1272\n",
            "Time taken: 0.0018296241760253906 seconds\n"
          ]
        }
      ],
      "source": [
        "start_city = int(input(\"Enter the starting city: \"))\n",
        "start_time = t.time()\n",
        "optimal_path= tsp_hurestic(df, start_city)\n",
        "end_time = t.time()\n",
        "\n",
        "print(\"Optimal Path:\", optimal_path)\n",
        "print(\"Distance:\", calculate_total_distance(optimal_path, df))\n",
        "print(\"Time taken:\", end_time - start_time, \"seconds\")\n"
      ]
    },
    {
      "cell_type": "markdown",
      "metadata": {},
      "source": [
        "Trying by auto selecting best starting city"
      ]
    },
    {
      "cell_type": "code",
      "execution_count": 9,
      "metadata": {},
      "outputs": [],
      "source": [
        "def tsp_bestCityHurestic(df):\n",
        "    min_distance= float('inf')\n",
        "    best_path= None\n",
        "\n",
        "    for start_city in range(df.shape[0]):\n",
        "        path = tsp_hurestic(df, start_city)\n",
        "        distance = calculate_total_distance(path,df)\n",
        "        if distance <min_distance:\n",
        "            best_path = path\n",
        "            min_distance = distance\n",
        "            \n",
        "    return best_path, min_distance"
      ]
    },
    {
      "cell_type": "code",
      "execution_count": 10,
      "metadata": {},
      "outputs": [
        {
          "name": "stdout",
          "output_type": "stream",
          "text": [
            "Optimal Path: [1, 0, 5, 4, 3, 2]\n",
            "Minimum Distance: 1248\n",
            "Time taken: 0.014134883880615234 seconds\n"
          ]
        }
      ],
      "source": [
        "start_time = t.time()\n",
        "optimal_path, min_distance = tsp_bestCityHurestic(df)\n",
        "end_time = t.time()\n",
        "\n",
        "print(\"Optimal Path:\", optimal_path)\n",
        "print(\"Minimum Distance:\", min_distance)\n",
        "print(\"Time taken:\", end_time - start_time, \"seconds\")"
      ]
    }
  ],
  "metadata": {
    "colab": {
      "provenance": []
    },
    "kernelspec": {
      "display_name": "Python 3",
      "language": "python",
      "name": "python3"
    },
    "language_info": {
      "codemirror_mode": {
        "name": "ipython",
        "version": 3
      },
      "file_extension": ".py",
      "mimetype": "text/x-python",
      "name": "python",
      "nbconvert_exporter": "python",
      "pygments_lexer": "ipython3",
      "version": "3.13.2"
    }
  },
  "nbformat": 4,
  "nbformat_minor": 0
}
